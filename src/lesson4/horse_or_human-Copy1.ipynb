{
 "cells": [
  {
   "cell_type": "code",
   "execution_count": null,
   "id": "aba16735-90e5-478d-823a-79043c1226e3",
   "metadata": {},
   "outputs": [],
   "source": [
    "%config IPCompleter.greedy=True"
   ]
  },
  {
   "cell_type": "code",
   "execution_count": 1,
   "id": "6386e386-dbb7-45c4-bb87-f2a5b8e1f60f",
   "metadata": {},
   "outputs": [
    {
     "name": "stdout",
     "output_type": "stream",
     "text": [
      "Trial 30 Complete [00h 22m 19s]\n",
      "val_acc: 0.89453125\n",
      "\n",
      "Best val_acc So Far: 0.92578125\n",
      "Total elapsed time: 02h 51m 51s\n",
      "INFO:tensorflow:Oracle triggered exit\n"
     ]
    }
   ],
   "source": [
    "import tensorflow as tf \n",
    "from tensorflow.keras.preprocessing.image import ImageDataGenerator \n",
    "from tensorflow.keras.optimizers import RMSprop\n",
    "from keras_tuner import Hyperband\n",
    "from keras_tuner.engine.hyperparameters import HyperParameters\n",
    "\n",
    "keras = tf.keras \n",
    "\n",
    "train_datagen = ImageDataGenerator(rescale=1./255) \n",
    "validation_datagen = ImageDataGenerator(rescale=1./255)\n",
    "\n",
    "train_generator = train_datagen.flow_from_directory('/tmp/horse-or-human/', target_size=(150, 150), batch_size=32, class_mode='binary')\n",
    "\n",
    "validation_generator = validation_datagen.flow_from_directory('/tmp/validation-horse-or-human/', target_size=(150, 150), batch_size=32, class_mode='binary')\n",
    "\n",
    "hp = HyperParameters()\n",
    "\n",
    "def build_model(hp):\n",
    "    model = keras.Sequential()\n",
    "    model.add(keras.layers.Conv2D(hp.Choice('num_filter_layer_0', values=[16,64], default=16), (3, 3), activation='relu', input_shape=(150, 150, 3)))\n",
    "    model.add(keras.layers.MaxPooling2D(2, 2))\n",
    "    for i in range(hp.Int('num_conv_layers', 1, 3)):\n",
    "        model.add(keras.layers.Conv2D(hp.Choice(f'num_filter_layer_{i}', values=[16,64], default=16), (3, 3), activation='relu'))\n",
    "        model.add(keras.layers.MaxPooling2D(2, 2))\n",
    "\n",
    "    model.add(keras.layers.Flatten())\n",
    "    model.add(keras.layers.Dense(hp.Int('hidden_units', 128, 512, step=32), activation='relu')) \n",
    "    model.add(keras.layers.Dense(1, activation='sigmoid'))\n",
    "    model.compile(loss='binary_crossentropy', optimizer=RMSprop(learning_rate=0.001), metrics=['acc'])\n",
    "    return model\n",
    "\n",
    "tuner = Hyperband(build_model, objective='val_acc', max_epochs=15, directory='horse_human_params', project_name='mu_human_project')\n",
    "\n",
    "tuner.search(train_generator, epochs=5, verbose=1, validation_data=validation_generator, validation_steps=8)\n",
    "\n",
    "# history = model.fit(train_generator, epochs5, verbose=1, validation_data=validation_generator, validation_steps=8)"
   ]
  },
  {
   "cell_type": "code",
   "execution_count": 2,
   "id": "22f8ab82-e6a0-41b5-8737-493bfabd4dde",
   "metadata": {},
   "outputs": [
    {
     "name": "stdout",
     "output_type": "stream",
     "text": [
      "{'num_filter_layer_0': 64, 'num_conv_layers': 2, 'hidden_units': 320, 'num_filter_layer_1': 64, 'num_filter_layer_2': 64, 'tuner/epochs': 5, 'tuner/initial_epoch': 0, 'tuner/bracket': 1, 'tuner/round': 0}\n",
      "Model: \"sequential_1\"\n",
      "_________________________________________________________________\n",
      "Layer (type)                 Output Shape              Param #   \n",
      "=================================================================\n",
      "conv2d_2 (Conv2D)            (None, 148, 148, 64)      1792      \n",
      "_________________________________________________________________\n",
      "max_pooling2d_2 (MaxPooling2 (None, 74, 74, 64)        0         \n",
      "_________________________________________________________________\n",
      "conv2d_3 (Conv2D)            (None, 72, 72, 64)        36928     \n",
      "_________________________________________________________________\n",
      "max_pooling2d_3 (MaxPooling2 (None, 36, 36, 64)        0         \n",
      "_________________________________________________________________\n",
      "conv2d_4 (Conv2D)            (None, 34, 34, 64)        36928     \n",
      "_________________________________________________________________\n",
      "max_pooling2d_4 (MaxPooling2 (None, 17, 17, 64)        0         \n",
      "_________________________________________________________________\n",
      "flatten_1 (Flatten)          (None, 18496)             0         \n",
      "_________________________________________________________________\n",
      "dense_2 (Dense)              (None, 320)               5919040   \n",
      "_________________________________________________________________\n",
      "dense_3 (Dense)              (None, 1)                 321       \n",
      "=================================================================\n",
      "Total params: 5,995,009\n",
      "Trainable params: 5,995,009\n",
      "Non-trainable params: 0\n",
      "_________________________________________________________________\n"
     ]
    }
   ],
   "source": [
    "best_hps = tuner.get_best_hyperparameters(1)[0]\n",
    "print(best_hps.values)\n",
    "model = tuner.hypermodel.build(best_hps)\n",
    "model.summary()"
   ]
  },
  {
   "cell_type": "code",
   "execution_count": 10,
   "id": "f7e2dc15-0c2c-447e-9328-22a41e5b76d5",
   "metadata": {},
   "outputs": [
    {
     "name": "stdout",
     "output_type": "stream",
     "text": [
      "[[0.]]\n"
     ]
    }
   ],
   "source": [
    "from tensorflow.keras.preprocessing import image\n",
    "import numpy as np\n",
    "\n",
    "img_width, img_height = 150, 150\n",
    "img1 = image.load_img('/tmp/validation-horse-or-human/horses/horse1-000.png', target_size = (img_width, img_height))\n",
    "img1 = image.img_to_array(img1)\n",
    "img1 = np.expand_dims(img1, axis = 0)\n",
    "\n",
    "img2 = image.load_img('/tmp/validation-horse-or-human/humans/valhuman01-00.png', target_size = (img_width, img_height))\n",
    "img2 = image.img_to_array(img2)\n",
    "img2 = np.expand_dims(img2, axis = 0)\n",
    "\n",
    "print(model.predict(img1))\n",
    "\n",
    "# print(model.predict(img2))"
   ]
  }
 ],
 "metadata": {
  "kernelspec": {
   "display_name": "Python 3 (ipykernel)",
   "language": "python",
   "name": "python3"
  },
  "language_info": {
   "codemirror_mode": {
    "name": "ipython",
    "version": 3
   },
   "file_extension": ".py",
   "mimetype": "text/x-python",
   "name": "python",
   "nbconvert_exporter": "python",
   "pygments_lexer": "ipython3",
   "version": "3.7.13"
  }
 },
 "nbformat": 4,
 "nbformat_minor": 5
}
