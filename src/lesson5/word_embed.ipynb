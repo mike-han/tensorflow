{
 "cells": [
  {
   "cell_type": "code",
   "execution_count": null,
   "id": "7e992935-3f20-492e-9a00-46faa6a4388e",
   "metadata": {},
   "outputs": [],
   "source": [
    "%config IPCompleter.greedy=True"
   ]
  },
  {
   "cell_type": "code",
   "execution_count": null,
   "id": "2eecc2e8-2416-47fc-a22f-9706bfc6b868",
   "metadata": {},
   "outputs": [],
   "source": [
    "import tensorflow as tf\n",
    "from tensorflow.keras.preprocessing.text import Tokenizer\n",
    "from tensorflow.keras.preprocessing.sequence import pad_sequences\n",
    "import tensorflow_datasets as tfds\n",
    "import numpy as np\n",
    "\n",
    "imdb, info = tfds.load(\"imdb_reviews\", with_info=True, as_supervised=True)\n",
    "train_data, test_data = imdb['train'], imdb['test']\n",
    "\n",
    "traning_sentences = []\n",
    "training_labels = []\n",
    "\n",
    "testing_sequences = []\n",
    "testing_labels = []\n",
    "\n",
    "for s,l in train_data:\n",
    "  traning_sentences.append(str(s.numpy()))\n",
    "  training_labels.append(l.numpy())\n",
    "\n",
    "for s,l in test_data:\n",
    "  testing_sequences.append(str(s.numpy()))\n",
    "  testing_labels.append(l.numpy())\n",
    "\n",
    "training_labels_final = np.array(training_labels)\n",
    "testing_labels_final = np.array(testing_labels)"
   ]
  },
  {
   "cell_type": "code",
   "execution_count": null,
   "id": "d2113baa-79ae-4684-98e6-71810e08cf17",
   "metadata": {},
   "outputs": [],
   "source": [
    "testing_sequences[1]"
   ]
  },
  {
   "cell_type": "code",
   "execution_count": null,
   "id": "1e35bf26-d73c-434a-911d-f7b260c8a7a6",
   "metadata": {},
   "outputs": [],
   "source": [
    "vocab_size = 10000\n",
    "embedding_dim = 16\n",
    "max_length = 120\n",
    "trunc_type = 'post'\n",
    "oov_token = \"<OOV>\"\n",
    "\n",
    "\n",
    "tokenizer = Tokenizer(num_words=vocab_size, oov_token=oov_token)\n",
    "tokenizer.fit_on_texts(traning_sentences)\n",
    "word_index = tokenizer.word_index\n",
    "sequences = tokenizer.texts_to_sequences(traning_sentences)\n",
    "padded = pad_sequences(sequences, maxlen=max_length, truncating=trunc_type)\n",
    "\n",
    "test_sequences = tokenizer.texts_to_sequences(testing_sequences)\n",
    "test_padded = pad_sequences(test_sequences, maxlen=max_length)\n",
    "\n",
    "model = tf.keras.Sequential()\n",
    "model.add(tf.keras.layers.Embedding(vocab_size, embedding_dim, input_length=max_length))\n",
    "# model.add(tf.keras.layers.Flatten())\n",
    "model.add(tf.keras.layers.GlobalAveragePooling1D())\n",
    "model.add(tf.keras.layers.Dense(6, activation='relu'))\n",
    "model.add(tf.keras.layers.Dense(1, activation='sigmoid'))\n",
    "\n",
    "model.compile(loss='binary_crossentropy', optimizer='adam', metrics=['accuracy'])\n",
    "model.fit(padded, training_labels_final, epochs=4, validation_data=(test_padded, testing_labels_final))"
   ]
  },
  {
   "cell_type": "code",
   "execution_count": null,
   "id": "a1ba9ef0-94bd-4a62-9176-bf8c20d2b3bd",
   "metadata": {},
   "outputs": [],
   "source": [
    "import io\n",
    "\n",
    "weights = model.layers[0].get_weights()[0]\n",
    "reverse_word_index = dict([(value, key) for (key, value) in word_index.items()])\n",
    "out_v = io.open('vecs.tsv', 'w', encoding='utf-8')\n",
    "out_m = io.open('meta.tsv', 'w', encoding='utf-8')\n",
    "\n",
    "for word_num in range(1, vocab_size):\n",
    "    word = reverse_word_index[word_num]\n",
    "    embeddings = weights[word_num]\n",
    "    out_m.write(word + '\\n')\n",
    "    out_v.write('\\t'.join([str(x) for x in embeddings]) + '\\n')\n",
    "    \n",
    "out_v.close()\n",
    "out_m.close()"
   ]
  },
  {
   "cell_type": "code",
   "execution_count": null,
   "id": "f65dbffd-257d-4ad5-a70a-a45472c5d43f",
   "metadata": {},
   "outputs": [],
   "source": [
    "def convert_text_to_padded_sequences(text):\n",
    "    sequences = tokenizer.texts_to_sequences([text])\n",
    "    padded = pad_sequences(sequences, maxlen=max_length, truncating=trunc_type)\n",
    "    return padded\n",
    "\n",
    "test_data1 = convert_text_to_padded_sequences('This movie is so boring')\n",
    "predict1 = model.predict(test_data1)\n",
    "test_data2 = convert_text_to_padded_sequences('The film is wonderful')\n",
    "predict2 = model.predict(test_data2)\n",
    "print(predict1)\n",
    "print(predict2)"
   ]
  }
 ],
 "metadata": {
  "kernelspec": {
   "display_name": "Python 3 (ipykernel)",
   "language": "python",
   "name": "python3"
  },
  "language_info": {
   "codemirror_mode": {
    "name": "ipython",
    "version": 3
   },
   "file_extension": ".py",
   "mimetype": "text/x-python",
   "name": "python",
   "nbconvert_exporter": "python",
   "pygments_lexer": "ipython3",
   "version": "3.7.13"
  }
 },
 "nbformat": 4,
 "nbformat_minor": 5
}
