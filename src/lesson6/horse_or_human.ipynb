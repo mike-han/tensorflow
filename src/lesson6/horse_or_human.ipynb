{
 "cells": [
  {
   "cell_type": "code",
   "execution_count": null,
   "id": "6f038496-728b-4337-b2db-c89ae99aeb98",
   "metadata": {},
   "outputs": [],
   "source": [
    "%config IPCompleter.greedy=True"
   ]
  },
  {
   "cell_type": "code",
   "execution_count": 1,
   "id": "be49fbba-641d-4218-9e9c-9cd996112023",
   "metadata": {},
   "outputs": [],
   "source": [
    "import os\n",
    "import zipfile\n",
    "import random\n",
    "import tensorflow as tf\n",
    "from tensorflow.keras.optimizers import RMSprop\n",
    "from tensorflow.keras.preprocessing.image import ImageDataGenerator\n",
    "from shutil import copyfile"
   ]
  },
  {
   "cell_type": "code",
   "execution_count": 3,
   "id": "d4e88328-fb25-4822-92f4-36f750c549fe",
   "metadata": {},
   "outputs": [],
   "source": [
    "local_zip = '/tmp/horse-or-human.zip'\n",
    "zip_ref   = zipfile.ZipFile(local_zip, 'r')\n",
    "zip_ref.extractall('/tmp/horse-or-human/')\n",
    "zip_ref.close()"
   ]
  },
  {
   "cell_type": "code",
   "execution_count": 4,
   "id": "c0610a0f-225a-4989-9efc-24a8b3787fe6",
   "metadata": {},
   "outputs": [],
   "source": [
    "import os\n",
    "import shutil\n",
    "\n",
    "def split_data(SOURCE, TRAINING, TESTING, SPLIT_SIZE):\n",
    "    files = []\n",
    "    for filename in os.listdir(SOURCE):\n",
    "        file = SOURCE + filename\n",
    "        if os.path.getsize(file) > 0:\n",
    "            files.append(filename)\n",
    "        else:\n",
    "            print(filename + \" is zero length, so ignoring.\")\n",
    "\n",
    "    training_length = int(len(files) * SPLIT_SIZE)\n",
    "    testing_length = int(len(files) - training_length)\n",
    "    shuffled_set = random.sample(files, len(files))\n",
    "    training_set = shuffled_set[0:training_length]\n",
    "    testing_set = shuffled_set[-testing_length:]\n",
    "\n",
    "    for filename in training_set:\n",
    "        this_file = SOURCE + filename\n",
    "        destination = TRAINING + filename\n",
    "        copyfile(this_file, destination)\n",
    "\n",
    "    for filename in testing_set:\n",
    "        this_file = SOURCE + filename\n",
    "        destination = TESTING + filename\n",
    "        copyfile(this_file, destination)"
   ]
  },
  {
   "cell_type": "code",
   "execution_count": 5,
   "id": "147bcf22-bda2-4beb-befa-427da90adc2d",
   "metadata": {},
   "outputs": [],
   "source": [
    "def create_dir(file_dir):\n",
    "    if os.path.exists(file_dir):\n",
    "        print('true')\n",
    "        #os.rmdir(file_dir)\n",
    "        shutil.rmtree(file_dir)#删除再建立\n",
    "        os.makedirs(file_dir)\n",
    "    else:\n",
    "        os.makedirs(file_dir)"
   ]
  },
  {
   "cell_type": "code",
   "execution_count": 14,
   "id": "8eafc597-0da6-4fec-bfae-7919c28ea848",
   "metadata": {},
   "outputs": [],
   "source": [
    "HORSE_SOURCE_DIR = \"/tmp/horse-or-human/horses/\"\n",
    "TRAINING_HORSE_DIR = \"/tmp/horse-v-humans/training/horses/\"\n",
    "TESTING_HORSE_DIR = \"/tmp/horse-v-humans/testing/horses/\"\n",
    "HUMAN_SOURCE_DIR = \"/tmp/horse-or-human/humans/\"\n",
    "TRAINING_HUMANS_DIR = \"/tmp/horse-v-humans/training/humans/\"\n",
    "TESTING_HUMANS_DIR = \"/tmp/horse-v-humans/testing/humans/\"\n",
    "\n",
    "create_dir(TRAINING_HORSE_DIR)\n",
    "create_dir(TESTING_HORSE_DIR)\n",
    "create_dir(TRAINING_HUMANS_DIR)\n",
    "create_dir(TESTING_HUMANS_DIR)"
   ]
  },
  {
   "cell_type": "code",
   "execution_count": 15,
   "id": "2a318e85-ffd2-450b-ab49-a1a030a19c8e",
   "metadata": {},
   "outputs": [],
   "source": [
    "split_data(HORSE_SOURCE_DIR, TRAINING_HORSE_DIR, TESTING_HORSE_DIR, 0.9)\n",
    "split_data(HUMAN_SOURCE_DIR, TRAINING_HUMANS_DIR, TESTING_HUMANS_DIR, 0.9)"
   ]
  },
  {
   "cell_type": "code",
   "execution_count": 16,
   "id": "bcc884e2-39c2-49f6-8436-c124ab05b0c3",
   "metadata": {},
   "outputs": [
    {
     "name": "stdout",
     "output_type": "stream",
     "text": [
      "450\n",
      "50\n",
      "474\n",
      "53\n"
     ]
    }
   ],
   "source": [
    "print(len(os.listdir(TRAINING_HORSE_DIR)))\n",
    "print(len(os.listdir(TESTING_HORSE_DIR)))\n",
    "print(len(os.listdir(TRAINING_HUMANS_DIR)))\n",
    "print(len(os.listdir(TESTING_HUMANS_DIR)))"
   ]
  },
  {
   "cell_type": "code",
   "execution_count": 17,
   "id": "cba2c3dd-5be7-478d-aef9-8a77281a7e2c",
   "metadata": {},
   "outputs": [
    {
     "name": "stderr",
     "output_type": "stream",
     "text": [
      "2022-04-06 23:02:53.957464: I tensorflow/core/platform/cpu_feature_guard.cc:145] This TensorFlow binary is optimized with Intel(R) MKL-DNN to use the following CPU instructions in performance critical operations:  SSE4.1 SSE4.2\n",
      "To enable them in non-MKL-DNN operations, rebuild TensorFlow with the appropriate compiler flags.\n",
      "2022-04-06 23:02:53.958053: I tensorflow/core/common_runtime/process_util.cc:115] Creating new thread pool with default inter op setting: 10. Tune using inter_op_parallelism_threads for best performance.\n"
     ]
    }
   ],
   "source": [
    "model = tf.keras.models.Sequential([\n",
    "    tf.keras.layers.Conv2D(16, (3, 3), activation='relu', input_shape=(150, 150, 3)),\n",
    "    tf.keras.layers.MaxPooling2D(2, 2),\n",
    "    tf.keras.layers.Conv2D(32, (3, 3), activation='relu'),\n",
    "    tf.keras.layers.MaxPooling2D(2, 2),\n",
    "    tf.keras.layers.Conv2D(64, (3, 3), activation='relu'),\n",
    "    tf.keras.layers.MaxPooling2D(2, 2),\n",
    "    tf.keras.layers.Flatten(),\n",
    "    tf.keras.layers.Dense(512, activation='relu'),\n",
    "    tf.keras.layers.Dense(1, activation='sigmoid')\n",
    "])\n",
    "\n",
    "model.compile(optimizer=RMSprop(lr=0.001), loss='binary_crossentropy', metrics=['acc'])"
   ]
  },
  {
   "cell_type": "code",
   "execution_count": 20,
   "id": "81fbd550-fbdd-4e99-9eb4-1422ac0d77a3",
   "metadata": {},
   "outputs": [
    {
     "name": "stdout",
     "output_type": "stream",
     "text": [
      "Found 924 images belonging to 2 classes.\n",
      "Found 103 images belonging to 2 classes.\n"
     ]
    }
   ],
   "source": [
    "\n",
    "TRAINING_DIR = \"/tmp/horse-v-humans/training\"\n",
    "train_datagen = ImageDataGenerator(rescale=1.0/255.)\n",
    "train_generator = train_datagen.flow_from_directory(TRAINING_DIR, batch_size=100, class_mode='binary', target_size=(150, 150))\n",
    "\n",
    "TESTING_DIR = \"/tmp/horse-v-humans/testing\"\n",
    "testing_datagen = ImageDataGenerator(rescale=1.0/255.0)\n",
    "testing_generator = testing_datagen.flow_from_directory(TESTING_DIR, batch_size=100, class_mode='binary', target_size=(150, 150))"
   ]
  },
  {
   "cell_type": "code",
   "execution_count": 21,
   "id": "a8098aaa-a942-4a0b-bfa3-c82eb33b707d",
   "metadata": {},
   "outputs": [
    {
     "name": "stdout",
     "output_type": "stream",
     "text": [
      "Epoch 1/2\n",
      "10/10 [==============================] - 27s 3s/step - loss: 0.4239 - acc: 0.8463 - val_loss: 0.1592 - val_acc: 0.9709\n",
      "Epoch 2/2\n",
      "10/10 [==============================] - 27s 3s/step - loss: 0.0893 - acc: 0.9697 - val_loss: 0.0529 - val_acc: 0.9806\n"
     ]
    }
   ],
   "source": [
    "history = model.fit_generator(train_generator, epochs=2, verbose=1, validation_data=testing_generator)"
   ]
  },
  {
   "cell_type": "code",
   "execution_count": 26,
   "id": "e4654ac3-1281-4daf-abed-61381aea38c6",
   "metadata": {},
   "outputs": [
    {
     "data": {
      "text/plain": [
       "[0.9708738, 0.98058254]"
      ]
     },
     "execution_count": 26,
     "metadata": {},
     "output_type": "execute_result"
    }
   ],
   "source": [
    "history.history['val_acc']"
   ]
  }
 ],
 "metadata": {
  "kernelspec": {
   "display_name": "Python 3 (ipykernel)",
   "language": "python",
   "name": "python3"
  },
  "language_info": {
   "codemirror_mode": {
    "name": "ipython",
    "version": 3
   },
   "file_extension": ".py",
   "mimetype": "text/x-python",
   "name": "python",
   "nbconvert_exporter": "python",
   "pygments_lexer": "ipython3",
   "version": "3.7.13"
  }
 },
 "nbformat": 4,
 "nbformat_minor": 5
}
