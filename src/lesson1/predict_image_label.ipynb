{
 "cells": [
  {
   "cell_type": "code",
   "execution_count": null,
   "id": "f4e092bd-de6e-48ce-8605-fbbeb15585e2",
   "metadata": {},
   "outputs": [],
   "source": [
    "%config IPCompleter.greedy=True"
   ]
  },
  {
   "cell_type": "code",
   "execution_count": null,
   "id": "d46293c0-a4ab-451a-bbdd-0d56f4b6579c",
   "metadata": {},
   "outputs": [],
   "source": [
    "import numpy\n",
    "import tensorflow as tf\n",
    "keras = tf.keras\n",
    "mnist = tf.keras.datasets.mnist\n",
    "\n",
    "class TensorCallback(tf.keras.callbacks.Callback):\n",
    "  def on_epoch_end(self, epoch, logs={}):\n",
    "    if(logs.get('loss') < 0.4):\n",
    "      print(\"\\nLoss is low so cancelling training!\")\n",
    "      self.model.stop_training = True\n",
    "\n",
    "(train_images, train_labels), (test_images, test_labels) = mnist.load_data()\n",
    "\n",
    "model = keras.Sequential()\n",
    "model.add(keras.layers.Flatten(input_shape=(28,28)))\n",
    "model.add(keras.layers.Dense(128, activation=tf.nn.relu))\n",
    "model.add(keras.layers.Dense(10, activation=tf.nn.softmax))\n",
    "\n",
    "model.compile(optimizer=\"adam\", loss=\"sparse_categorical_crossentropy\", metrics=[\"accuracy\"])\n",
    "model.fit(train_images/255, train_labels, epochs=5, callbacks=[TensorCallback()])"
   ]
  },
  {
   "cell_type": "code",
   "execution_count": null,
   "id": "6ec031ce-b630-4eed-ad9a-c86d70bd7a32",
   "metadata": {},
   "outputs": [],
   "source": [
    "# model.evaluate(test_images/255, test_labels)\n",
    "print(numpy.argmax(model.predict(test_images[0:1]/255), axis=1))\n",
    "print(test_labels[0])"
   ]
  }
 ],
 "metadata": {
  "kernelspec": {
   "display_name": "Python 3 (ipykernel)",
   "language": "python",
   "name": "python3"
  },
  "language_info": {
   "codemirror_mode": {
    "name": "ipython",
    "version": 3
   },
   "file_extension": ".py",
   "mimetype": "text/x-python",
   "name": "python",
   "nbconvert_exporter": "python",
   "pygments_lexer": "ipython3",
   "version": "3.7.13"
  }
 },
 "nbformat": 4,
 "nbformat_minor": 5
}
