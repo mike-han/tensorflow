{
 "cells": [
  {
   "cell_type": "code",
   "execution_count": null,
   "id": "aba16735-90e5-478d-823a-79043c1226e3",
   "metadata": {},
   "outputs": [],
   "source": [
    "%config IPCompleter.greedy=True"
   ]
  },
  {
   "cell_type": "code",
   "execution_count": null,
   "id": "583b7c86-5e22-499b-a393-301bd9feb3ac",
   "metadata": {},
   "outputs": [],
   "source": [
    "import tensorflow as tf\n",
    "from tensorflow.keras.preprocessing.image import ImageDataGenerator\n",
    "from tensorflow.keras.optimizers import RMSprop\n",
    "\n",
    "keras = tf.keras\n",
    "train_datagen = ImageDataGenerator(rescale=1./255)\n",
    "validation_datagen = ImageDataGenerator(rescale=1./255)\n",
    "\n",
    "train_generator = train_datagen.flow_from_directory('/tmp/horse-or-human/', target_size=(300, 300), batch_size=32, class_mode='binary')\n",
    "\n",
    "validation_generator = validation_datagen.flow_from_directory('/tmp/validation-horse-or-human/', target_size=(300, 300), batch_size=32, class_mode='binary')\n",
    "\n",
    "\n",
    "model = keras.Sequential()\n",
    "\n",
    "model.add(keras.layers.Conv2D(16, (3, 3), activation='relu', input_shape=(300, 300, 3)))\n",
    "model.add(keras.layers.MaxPooling2D(2, 2))\n",
    "model.add(keras.layers.Conv2D(16, (3, 3), activation='relu'))\n",
    "model.add(keras.layers.MaxPooling2D(2, 2))\n",
    "model.add(keras.layers.Conv2D(16, (3, 3), activation='relu'))\n",
    "model.add(keras.layers.MaxPooling2D(2, 2))\n",
    "\n",
    "model.add(keras.layers.Flatten())\n",
    "model.add(keras.layers.Dense(512, activation='relu'))\n",
    "model.add(keras.layers.Dense(1, activation='sigmoid'))\n",
    "\n",
    "model.compile(loss='binary_crossentropy', optimizer=RMSprop(learning_rate=0.001), metrics=['acc'])\n",
    "\n",
    "history = model.fit(train_generator, epochs=15, verbose=1, validation_data=validation_generator, validation_steps=8)"
   ]
  }
 ],
 "metadata": {
  "kernelspec": {
   "display_name": "Python 3 (ipykernel)",
   "language": "python",
   "name": "python3"
  },
  "language_info": {
   "codemirror_mode": {
    "name": "ipython",
    "version": 3
   },
   "file_extension": ".py",
   "mimetype": "text/x-python",
   "name": "python",
   "nbconvert_exporter": "python",
   "pygments_lexer": "ipython3",
   "version": "3.7.13"
  }
 },
 "nbformat": 4,
 "nbformat_minor": 5
}
