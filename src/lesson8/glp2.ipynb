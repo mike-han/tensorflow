{
 "cells": [
  {
   "cell_type": "code",
   "execution_count": null,
   "metadata": {},
   "outputs": [],
   "source": [
    "!wget --no-check-certificate \\\n",
    "    https://storage.googleapis.com/laurencemoroney-blog.appspot.com/irish-lyrics-eof.txt \\\n",
    "    -O irish-lyrics-eof.txt"
   ]
  },
  {
   "cell_type": "code",
   "execution_count": null,
   "metadata": {},
   "outputs": [],
   "source": [
    "from tensorflow.keras.preprocessing.text import Tokenizer\n",
    "from tensorflow.keras.preprocessing.sequence import pad_sequences\n",
    "\n",
    "tokenizer = Tokenizer()\n",
    "\n",
    "data = open('irish-lyrics-eof.txt').read()\n",
    "\n",
    "corpus = data.lower().split(\"\\n\")\n",
    "\n",
    "tokenizer.fit_on_texts(corpus)\n",
    "total_words = len(tokenizer.word_index) + 1"
   ]
  },
  {
   "cell_type": "code",
   "execution_count": 4,
   "metadata": {},
   "outputs": [],
   "source": [
    "import numpy as np\n",
    "import tensorflow as tf\n",
    "\n",
    "input_sequences = []\n",
    "for line in corpus:\n",
    "    token_list = tokenizer.texts_to_sequences([line])[0]\n",
    "    for i in range(1, len(token_list)):\n",
    "        n_gram_sequence = token_list[:i+1]\n",
    "        input_sequences.append(n_gram_sequence)\n",
    "\n",
    "\n",
    "max_sequence_len = max([len(x) for x in input_sequences])\n",
    "input_sequences = np.array(pad_sequences(input_sequences, maxlen=max_sequence_len, padding='pre'))\n",
    "\n",
    "xs = input_sequences[:,:-1]\n",
    "labels = input_sequences[:,-1]\n",
    "ys = tf.keras.utils.to_categorical(labels, num_classes=total_words)"
   ]
  },
  {
   "cell_type": "code",
   "execution_count": 5,
   "metadata": {},
   "outputs": [
    {
     "name": "stderr",
     "output_type": "stream",
     "text": [
      "2022-04-16 22:51:18.648615: I tensorflow/core/platform/cpu_feature_guard.cc:145] This TensorFlow binary is optimized with Intel(R) MKL-DNN to use the following CPU instructions in performance critical operations:  SSE4.1 SSE4.2\n",
      "To enable them in non-MKL-DNN operations, rebuild TensorFlow with the appropriate compiler flags.\n",
      "2022-04-16 22:51:18.649287: I tensorflow/core/common_runtime/process_util.cc:115] Creating new thread pool with default inter op setting: 10. Tune using inter_op_parallelism_threads for best performance.\n"
     ]
    },
    {
     "name": "stdout",
     "output_type": "stream",
     "text": [
      "Train on 12038 samples\n",
      "Epoch 1/100\n"
     ]
    },
    {
     "name": "stderr",
     "output_type": "stream",
     "text": [
      "2022-04-16 22:51:19.996741: W tensorflow/core/grappler/optimizers/implementation_selector.cc:310] Skipping optimization due to error while loading function libraries: Invalid argument: Functions '__inference___backward_standard_lstm_2690_3175_specialized_for_StatefulPartitionedCall_at___inference_distributed_function_3318' and '__inference___backward_cudnn_lstm_with_fallback_2390_2572' both implement 'lstm_0e05a0db-5d48-4bdb-9d17-c7e7966b55c5' but their signatures do not match.\n"
     ]
    },
    {
     "name": "stdout",
     "output_type": "stream",
     "text": [
      "12038/12038 [==============================] - 50s 4ms/sample - loss: 6.6591 - accuracy: 0.0730\n",
      "Epoch 2/100\n",
      "12038/12038 [==============================] - 47s 4ms/sample - loss: 5.8213 - accuracy: 0.1115\n",
      "Epoch 3/100\n",
      "12038/12038 [==============================] - 47s 4ms/sample - loss: 5.0208 - accuracy: 0.1548\n",
      "Epoch 4/100\n",
      "12038/12038 [==============================] - 47s 4ms/sample - loss: 4.1237 - accuracy: 0.2224\n",
      "Epoch 5/100\n",
      "12038/12038 [==============================] - 46s 4ms/sample - loss: 3.2978 - accuracy: 0.3167\n",
      "Epoch 6/100\n",
      "12038/12038 [==============================] - 47s 4ms/sample - loss: 2.5784 - accuracy: 0.4250\n",
      "Epoch 7/100\n",
      "12038/12038 [==============================] - 54s 5ms/sample - loss: 2.0629 - accuracy: 0.5248\n",
      "Epoch 8/100\n",
      "12038/12038 [==============================] - 53s 4ms/sample - loss: 1.6860 - accuracy: 0.6042\n",
      "Epoch 9/100\n",
      "12038/12038 [==============================] - 56s 5ms/sample - loss: 1.4067 - accuracy: 0.6625\n",
      "Epoch 10/100\n",
      "12038/12038 [==============================] - 52s 4ms/sample - loss: 1.2198 - accuracy: 0.7113\n",
      "Epoch 11/100\n",
      "12038/12038 [==============================] - 62s 5ms/sample - loss: 1.1126 - accuracy: 0.7324\n",
      "Epoch 12/100\n",
      "12038/12038 [==============================] - 61s 5ms/sample - loss: 1.0408 - accuracy: 0.7461\n",
      "Epoch 13/100\n",
      "12038/12038 [==============================] - 61s 5ms/sample - loss: 0.9615 - accuracy: 0.7670\n",
      "Epoch 14/100\n",
      "12038/12038 [==============================] - 58s 5ms/sample - loss: 0.9497 - accuracy: 0.7668\n",
      "Epoch 15/100\n",
      "12038/12038 [==============================] - 52s 4ms/sample - loss: 0.9887 - accuracy: 0.7495\n",
      "Epoch 16/100\n",
      "12038/12038 [==============================] - 56s 5ms/sample - loss: 1.0715 - accuracy: 0.7278\n",
      "Epoch 17/100\n",
      "12038/12038 [==============================] - 57s 5ms/sample - loss: 1.0882 - accuracy: 0.7221\n",
      "Epoch 18/100\n",
      "12038/12038 [==============================] - 57s 5ms/sample - loss: 1.0442 - accuracy: 0.7281\n",
      "Epoch 19/100\n",
      "12038/12038 [==============================] - 56s 5ms/sample - loss: 0.9716 - accuracy: 0.7504\n",
      "Epoch 20/100\n",
      "12038/12038 [==============================] - 52s 4ms/sample - loss: 0.8897 - accuracy: 0.7738\n",
      "Epoch 21/100\n",
      "12038/12038 [==============================] - 53s 4ms/sample - loss: 0.8065 - accuracy: 0.7932\n",
      "Epoch 22/100\n",
      "12038/12038 [==============================] - 54s 4ms/sample - loss: 0.8123 - accuracy: 0.7927\n",
      "Epoch 23/100\n",
      "12038/12038 [==============================] - 55s 5ms/sample - loss: 0.7932 - accuracy: 0.7959\n",
      "Epoch 24/100\n",
      "12038/12038 [==============================] - 52s 4ms/sample - loss: 0.8275 - accuracy: 0.7850\n",
      "Epoch 25/100\n",
      "12038/12038 [==============================] - 54s 4ms/sample - loss: 0.9559 - accuracy: 0.7503\n",
      "Epoch 26/100\n",
      "12038/12038 [==============================] - 51s 4ms/sample - loss: 1.0925 - accuracy: 0.7107\n",
      "Epoch 27/100\n",
      "12038/12038 [==============================] - 50s 4ms/sample - loss: 1.0568 - accuracy: 0.7198\n",
      "Epoch 28/100\n",
      "12038/12038 [==============================] - 55s 5ms/sample - loss: 0.9867 - accuracy: 0.7399\n",
      "Epoch 29/100\n",
      "12038/12038 [==============================] - 52s 4ms/sample - loss: 0.8741 - accuracy: 0.7707\n",
      "Epoch 30/100\n",
      "12038/12038 [==============================] - 55s 5ms/sample - loss: 0.8112 - accuracy: 0.7866\n",
      "Epoch 31/100\n",
      "12038/12038 [==============================] - 56s 5ms/sample - loss: 0.7531 - accuracy: 0.8035\n",
      "Epoch 32/100\n",
      "12038/12038 [==============================] - 53s 4ms/sample - loss: 0.7404 - accuracy: 0.8046\n",
      "Epoch 33/100\n",
      "12038/12038 [==============================] - 54s 4ms/sample - loss: 0.7316 - accuracy: 0.8077\n",
      "Epoch 34/100\n",
      "12038/12038 [==============================] - 50s 4ms/sample - loss: 0.8160 - accuracy: 0.7820\n",
      "Epoch 35/100\n",
      "12038/12038 [==============================] - 57s 5ms/sample - loss: 1.0189 - accuracy: 0.7341\n",
      "Epoch 36/100\n",
      "12038/12038 [==============================] - 53s 4ms/sample - loss: 1.1533 - accuracy: 0.6985\n",
      "Epoch 37/100\n",
      "12038/12038 [==============================] - 56s 5ms/sample - loss: 1.0365 - accuracy: 0.7257\n",
      "Epoch 38/100\n",
      "12038/12038 [==============================] - 53s 4ms/sample - loss: 0.8777 - accuracy: 0.7637\n",
      "Epoch 39/100\n",
      "12038/12038 [==============================] - 56s 5ms/sample - loss: 0.8168 - accuracy: 0.7785\n",
      "Epoch 40/100\n",
      "12038/12038 [==============================] - 55s 5ms/sample - loss: 0.7473 - accuracy: 0.8005\n",
      "Epoch 41/100\n",
      "12038/12038 [==============================] - 53s 4ms/sample - loss: 0.7260 - accuracy: 0.8089\n",
      "Epoch 42/100\n",
      "12038/12038 [==============================] - 54s 4ms/sample - loss: 0.7096 - accuracy: 0.8127\n",
      "Epoch 43/100\n",
      "12038/12038 [==============================] - 53s 4ms/sample - loss: 0.7240 - accuracy: 0.8087\n",
      "Epoch 44/100\n",
      "12038/12038 [==============================] - 57s 5ms/sample - loss: 0.7947 - accuracy: 0.7841\n",
      "Epoch 45/100\n",
      "12038/12038 [==============================] - 55s 5ms/sample - loss: 0.9088 - accuracy: 0.7555\n",
      "Epoch 46/100\n",
      "12038/12038 [==============================] - 55s 5ms/sample - loss: 1.0121 - accuracy: 0.7281\n",
      "Epoch 47/100\n",
      "12038/12038 [==============================] - 53s 4ms/sample - loss: 0.9902 - accuracy: 0.7346\n",
      "Epoch 48/100\n",
      "12038/12038 [==============================] - 54s 4ms/sample - loss: 0.9782 - accuracy: 0.7398\n",
      "Epoch 49/100\n",
      "12038/12038 [==============================] - 55s 5ms/sample - loss: 0.9514 - accuracy: 0.7452\n",
      "Epoch 50/100\n",
      "12038/12038 [==============================] - 51s 4ms/sample - loss: 0.8263 - accuracy: 0.7829\n",
      "Epoch 51/100\n",
      "12038/12038 [==============================] - 53s 4ms/sample - loss: 0.7428 - accuracy: 0.8012\n",
      "Epoch 52/100\n",
      "12038/12038 [==============================] - 55s 5ms/sample - loss: 0.7033 - accuracy: 0.8123\n",
      "Epoch 53/100\n",
      "12038/12038 [==============================] - 54s 4ms/sample - loss: 0.6765 - accuracy: 0.8183\n",
      "Epoch 54/100\n",
      "12038/12038 [==============================] - 57s 5ms/sample - loss: 0.6594 - accuracy: 0.8226\n",
      "Epoch 55/100\n",
      "12038/12038 [==============================] - 54s 4ms/sample - loss: 0.7036 - accuracy: 0.8134\n",
      "Epoch 56/100\n",
      "12038/12038 [==============================] - 52s 4ms/sample - loss: 0.8181 - accuracy: 0.7801\n",
      "Epoch 57/100\n",
      "12038/12038 [==============================] - 55s 5ms/sample - loss: 1.1927 - accuracy: 0.7003\n",
      "Epoch 58/100\n",
      "12038/12038 [==============================] - 52s 4ms/sample - loss: 1.4271 - accuracy: 0.6465\n",
      "Epoch 59/100\n",
      "12038/12038 [==============================] - 57s 5ms/sample - loss: 1.1902 - accuracy: 0.6945\n",
      "Epoch 60/100\n",
      "12038/12038 [==============================] - 54s 4ms/sample - loss: 1.0010 - accuracy: 0.7332\n",
      "Epoch 61/100\n",
      "12038/12038 [==============================] - 56s 5ms/sample - loss: 0.8516 - accuracy: 0.7684\n",
      "Epoch 62/100\n",
      "12038/12038 [==============================] - 53s 4ms/sample - loss: 0.7746 - accuracy: 0.7932\n",
      "Epoch 63/100\n",
      "12038/12038 [==============================] - 52s 4ms/sample - loss: 0.7409 - accuracy: 0.7991\n",
      "Epoch 64/100\n",
      "12038/12038 [==============================] - 56s 5ms/sample - loss: 0.7110 - accuracy: 0.8100\n",
      "Epoch 65/100\n",
      "12038/12038 [==============================] - 53s 4ms/sample - loss: 0.7087 - accuracy: 0.8096\n",
      "Epoch 66/100\n",
      "12038/12038 [==============================] - 52s 4ms/sample - loss: 0.7273 - accuracy: 0.8051\n",
      "Epoch 67/100\n",
      "12038/12038 [==============================] - 55s 5ms/sample - loss: 0.8113 - accuracy: 0.7834\n",
      "Epoch 68/100\n",
      "12038/12038 [==============================] - 53s 4ms/sample - loss: 0.9038 - accuracy: 0.7563\n",
      "Epoch 69/100\n",
      "12038/12038 [==============================] - 52s 4ms/sample - loss: 0.9701 - accuracy: 0.7391\n",
      "Epoch 70/100\n",
      "12038/12038 [==============================] - 57s 5ms/sample - loss: 0.9330 - accuracy: 0.7506\n",
      "Epoch 71/100\n",
      "12038/12038 [==============================] - 54s 4ms/sample - loss: 0.8729 - accuracy: 0.7638\n",
      "Epoch 72/100\n",
      "12038/12038 [==============================] - 53s 4ms/sample - loss: 0.8718 - accuracy: 0.7669\n",
      "Epoch 73/100\n",
      "12038/12038 [==============================] - 55s 5ms/sample - loss: 0.7905 - accuracy: 0.7878\n",
      "Epoch 74/100\n",
      "12038/12038 [==============================] - 54s 4ms/sample - loss: 0.7486 - accuracy: 0.7957\n",
      "Epoch 75/100\n",
      "12038/12038 [==============================] - 54s 4ms/sample - loss: 0.7591 - accuracy: 0.7956\n",
      "Epoch 76/100\n",
      "12038/12038 [==============================] - 52s 4ms/sample - loss: 0.7210 - accuracy: 0.8030\n",
      "Epoch 77/100\n",
      "12038/12038 [==============================] - 55s 5ms/sample - loss: 0.7486 - accuracy: 0.7976\n",
      "Epoch 78/100\n",
      "12038/12038 [==============================] - 52s 4ms/sample - loss: 0.7549 - accuracy: 0.7949\n",
      "Epoch 79/100\n",
      "12038/12038 [==============================] - 56s 5ms/sample - loss: 0.8067 - accuracy: 0.7781\n",
      "Epoch 80/100\n",
      "12038/12038 [==============================] - 56s 5ms/sample - loss: 0.8967 - accuracy: 0.7600\n",
      "Epoch 81/100\n",
      "12038/12038 [==============================] - 54s 4ms/sample - loss: 0.8708 - accuracy: 0.7716\n",
      "Epoch 82/100\n",
      "12038/12038 [==============================] - 56s 5ms/sample - loss: 0.8808 - accuracy: 0.7651\n",
      "Epoch 83/100\n",
      "12038/12038 [==============================] - 54s 5ms/sample - loss: 0.8882 - accuracy: 0.7603\n",
      "Epoch 84/100\n",
      "12038/12038 [==============================] - 54s 5ms/sample - loss: 0.8415 - accuracy: 0.7711\n",
      "Epoch 85/100\n",
      "12038/12038 [==============================] - 57s 5ms/sample - loss: 0.7845 - accuracy: 0.7874\n",
      "Epoch 86/100\n",
      "12038/12038 [==============================] - 54s 4ms/sample - loss: 0.7726 - accuracy: 0.7914\n",
      "Epoch 87/100\n",
      "12038/12038 [==============================] - 54s 4ms/sample - loss: 0.7586 - accuracy: 0.7917\n",
      "Epoch 88/100\n",
      "12038/12038 [==============================] - 53s 4ms/sample - loss: 0.7499 - accuracy: 0.7949\n",
      "Epoch 89/100\n",
      "12038/12038 [==============================] - 55s 5ms/sample - loss: 0.7141 - accuracy: 0.8069\n",
      "Epoch 90/100\n",
      "12038/12038 [==============================] - 57s 5ms/sample - loss: 0.7357 - accuracy: 0.7989\n",
      "Epoch 91/100\n",
      "12038/12038 [==============================] - 56s 5ms/sample - loss: 0.7653 - accuracy: 0.7897\n",
      "Epoch 92/100\n",
      "12038/12038 [==============================] - 57s 5ms/sample - loss: 0.7982 - accuracy: 0.7809\n",
      "Epoch 93/100\n",
      "12038/12038 [==============================] - 52s 4ms/sample - loss: 0.8477 - accuracy: 0.7689\n",
      "Epoch 94/100\n",
      "12038/12038 [==============================] - 55s 5ms/sample - loss: 0.8266 - accuracy: 0.7753\n",
      "Epoch 95/100\n",
      "12038/12038 [==============================] - 55s 5ms/sample - loss: 0.7720 - accuracy: 0.7883\n",
      "Epoch 96/100\n",
      "12038/12038 [==============================] - 52s 4ms/sample - loss: 0.7567 - accuracy: 0.7959\n",
      "Epoch 97/100\n",
      "12038/12038 [==============================] - 56s 5ms/sample - loss: 0.7450 - accuracy: 0.7976\n",
      "Epoch 98/100\n",
      "12038/12038 [==============================] - 54s 4ms/sample - loss: 0.8369 - accuracy: 0.7763\n",
      "Epoch 99/100\n",
      "12038/12038 [==============================] - 56s 5ms/sample - loss: 0.8192 - accuracy: 0.7812\n",
      "Epoch 100/100\n",
      "12038/12038 [==============================] - 54s 4ms/sample - loss: 0.7922 - accuracy: 0.7908\n"
     ]
    }
   ],
   "source": [
    "from tensorflow.keras.optimizers import Adam\n",
    "adam = Adam(lr=0.01)\n",
    "model = tf.keras.Sequential([\n",
    "    tf.keras.layers.Embedding(total_words, 100, input_length=max_sequence_len-1),\n",
    "    tf.keras.layers.LSTM(150),\n",
    "    tf.keras.layers.Dense(total_words, activation='softmax')\n",
    "])\n",
    "model.compile(loss='categorical_crossentropy', optimizer=adam, metrics=['accuracy'])\n",
    "history = model.fit(xs, ys, epochs=100, verbose=1)"
   ]
  },
  {
   "cell_type": "code",
   "execution_count": 6,
   "metadata": {},
   "outputs": [
    {
     "data": {
      "image/png": "[encoded data removed]",
      "text/plain": [
       "<Figure size 432x288 with 1 Axes>"
      ]
     },
     "metadata": {
      "needs_background": "light"
     },
     "output_type": "display_data"
    },
    {
     "data": {
      "image/png": "[encoded data removed]",
      "text/plain": [
       "<Figure size 432x288 with 1 Axes>"
      ]
     },
     "metadata": {
      "needs_background": "light"
     },
     "output_type": "display_data"
    }
   ],
   "source": [
    "import matplotlib.pyplot as plt\n",
    "\n",
    "def plot_graphs(history, string):\n",
    "  plt.plot(history.history[string])\n",
    "  # plt.plot(history.history['val_'+string])\n",
    "  plt.xlabel(\"Epochs\")\n",
    "  plt.ylabel(string)\n",
    "  # plt.legend([string, 'val_'+string])\n",
    "  plt.show()\n",
    "\n",
    "plot_graphs(history, 'accuracy')\n",
    "plot_graphs(history, 'loss')"
   ]
  },
  {
   "cell_type": "code",
   "execution_count": 7,
   "metadata": {},
   "outputs": [
    {
     "name": "stderr",
     "output_type": "stream",
     "text": [
      "2022-04-17 00:35:48.260543: W tensorflow/core/grappler/optimizers/implementation_selector.cc:310] Skipping optimization due to error while loading function libraries: Invalid argument: Functions '__inference_standard_lstm_116858_specialized_for_sequential_lstm_StatefulPartitionedCall_at___inference_distributed_function_117161' and '__inference_cudnn_lstm_with_fallback_116969' both implement 'lstm_6c18e4bd-80a6-41f5-8955-f792d7f76cab' but their signatures do not match.\n"
     ]
    },
    {
     "name": "stdout",
     "output_type": "stream",
     "text": [
      "Laurence went to dublin whack follol thou mine your eyes on the high tower\n"
     ]
    }
   ],
   "source": [
    "seed_text = \"Laurence went to dublin\"\n",
    "next_words = 10\n",
    "  \n",
    "for _ in range(next_words):\n",
    "\ttoken_list = tokenizer.texts_to_sequences([seed_text])[0]\n",
    "\ttoken_list = pad_sequences([token_list], maxlen=max_sequence_len-1, padding='pre')\n",
    "\tpredicted = model.predict_classes(token_list, verbose=0)\n",
    "\toutput_word = \"\"\n",
    "\tfor word, index in tokenizer.word_index.items():\n",
    "\t\tif index == predicted:\n",
    "\t\t\toutput_word = word\n",
    "\t\t\tbreak\n",
    "\tseed_text += \" \" + output_word\n",
    "print(seed_text) \n",
    "#print(time.time())\n"
   ]
  },
  {
   "cell_type": "code",
   "execution_count": null,
   "metadata": {},
   "outputs": [],
   "source": [
    "model = tf.keras.Sequential([\n",
    "    tf.keras.layers.Embedding(total_words, 64, input_length=max_sequence_len-1),\n",
    "    tf.keras.layers.Bidirectional(tf.keras.layers.LSTM(20)),\n",
    "    tf.keras.layers.Dense(total_words, activation='softmax')\n",
    "])\n",
    "model.compile(loss='categorical_crossentropy', optimizer='adam', metrics=['accuracy'])\n",
    "history = model.fit(xs, ys, epochs=500, verbose=1)"
   ]
  },
  {
   "cell_type": "code",
   "execution_count": null,
   "metadata": {},
   "outputs": [],
   "source": [
    "plot_graphs(history, 'accuracy')\n",
    "plot_graphs(history, 'loss')"
   ]
  },
  {
   "cell_type": "code",
   "execution_count": 10,
   "metadata": {},
   "outputs": [
    {
     "name": "stdout",
     "output_type": "stream",
     "text": [
      "Laurence went to dublin whack follol thou mine your eyes on the high tower she said she is the dead of night unseen the bell of belfast city and mary the bold while the woman from the true love my did say me darling mother be kind into voice at me heart a way wid you father avick to know by the sunny shure stream forever your barley and the old tin cans be friendly face and the bold their journey to fulfill along by mountain sea may be rough be there at all dead love and i meet me one of thine own\n"
     ]
    }
   ],
   "source": [
    "seed_text = \"Laurence went to dublin\"\n",
    "next_words = 100\n",
    "  \n",
    "for _ in range(next_words):\n",
    "\ttoken_list = tokenizer.texts_to_sequences([seed_text])[0]\n",
    "\ttoken_list = pad_sequences([token_list], maxlen=max_sequence_len-1, padding='pre')\n",
    "\tpredicted = model.predict_classes(token_list, verbose=0)\n",
    "\toutput_word = \"\"\n",
    "\tfor word, index in tokenizer.word_index.items():\n",
    "\t\tif index == predicted:\n",
    "\t\t\toutput_word = word\n",
    "\t\t\tbreak\n",
    "\tseed_text += \" \" + output_word\n",
    "print(seed_text) "
   ]
  },
  {
   "cell_type": "code",
   "execution_count": null,
   "metadata": {},
   "outputs": [],
   "source": []
  }
 ],
 "metadata": {
  "interpreter": {
   "hash": "8acd2a4c40bb06440d03e583eeea35c6596324a3385dafe16353bbc1939be192"
  },
  "kernelspec": {
   "display_name": "Python 3.7.13 ('tensorflow')",
   "language": "python",
   "name": "python3"
  },
  "language_info": {
   "codemirror_mode": {
    "name": "ipython",
    "version": 3
   },
   "file_extension": ".py",
   "mimetype": "text/x-python",
   "name": "python",
   "nbconvert_exporter": "python",
   "pygments_lexer": "ipython3",
   "version": "3.7.13"
  },
  "orig_nbformat": 4
 },
 "nbformat": 4,
 "nbformat_minor": 2
}
