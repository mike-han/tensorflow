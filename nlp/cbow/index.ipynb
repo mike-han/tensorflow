{
 "cells": [
  {
   "cell_type": "code",
   "execution_count": null,
   "metadata": {},
   "outputs": [],
   "source": [
    "import numpy as np"
   ]
  },
  {
   "cell_type": "code",
   "execution_count": null,
   "metadata": {},
   "outputs": [],
   "source": [
    "corpus = 'I drink coffee everyday'\n",
    "W1 = [1, 0, 0, 0]\n",
    "W2 = [0, 1, 0, 0]\n",
    "W3 = [0, 0, 1, 0]\n",
    "W4 = [0, 0, 0, 1]"
   ]
  },
  {
   "cell_type": "code",
   "execution_count": null,
   "metadata": {},
   "outputs": [],
   "source": [
    "W = np.array([1, 2, 3, 0, 1, 2, 1, 2, -1, 1, 1, 1]).reshape(3, 4)\n",
    "print(W)"
   ]
  },
  {
   "cell_type": "code",
   "execution_count": null,
   "metadata": {},
   "outputs": [],
   "source": [
    "W1 = np.array([1, 0, 0, 0])\n",
    "W2 = np.array([0, 1, 0, 0])\n",
    "W3 = np.array([0, 0, 1, 0])\n",
    "W4 = np.array([0, 0, 0, 1])\n",
    "V1 = Wx1 = (W * W1).sum(axis=1)\n",
    "V2 = Wx2 = (W * W2).sum(axis=1)\n",
    "V4 = Wx4 = (W * W4).sum(axis=1)\n",
    "print(V1)\n",
    "print(V2)\n",
    "print(V4)"
   ]
  },
  {
   "cell_type": "code",
   "execution_count": null,
   "metadata": {},
   "outputs": [],
   "source": [
    "Q = np.array((V1 + V2 + V4) / 3).reshape(3)\n",
    "print(Q)"
   ]
  },
  {
   "cell_type": "code",
   "execution_count": null,
   "metadata": {},
   "outputs": [],
   "source": [
    "W_ = np.array([1, 2, -1, -1, 2, -1, 1, 2, 2, 0, 2, 0]).reshape(4, 3)\n",
    "print(W_)"
   ]
  },
  {
   "cell_type": "code",
   "execution_count": null,
   "metadata": {},
   "outputs": [],
   "source": [
    "U0 = W_Q = (W_ * Q).sum(axis=1)\n",
    "print(U0)"
   ]
  },
  {
   "cell_type": "code",
   "execution_count": null,
   "metadata": {},
   "outputs": [],
   "source": [
    "tf.nn.softmax(U0)"
   ]
  },
  {
   "cell_type": "code",
   "execution_count": null,
   "metadata": {},
   "outputs": [],
   "source": []
  }
 ],
 "metadata": {
  "interpreter": {
   "hash": "8639f22e1530ee2a5f2548bc0245ffed892f59880c37de02f243da87cdc45584"
  },
  "kernelspec": {
   "display_name": "Python 3.9.5 ('tensorflow')",
   "language": "python",
   "name": "python3"
  },
  "language_info": {
   "name": "python",
   "version": "3.9.5"
  },
  "orig_nbformat": 4
 },
 "nbformat": 4,
 "nbformat_minor": 2
}
